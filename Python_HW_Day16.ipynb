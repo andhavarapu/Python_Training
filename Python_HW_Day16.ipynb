{
 "cells": [
  {
   "cell_type": "code",
   "execution_count": 2,
   "metadata": {},
   "outputs": [
    {
     "name": "stdout",
     "output_type": "stream",
     "text": [
      "\n",
      " I have a cat\n",
      "\n",
      " my cat's name is pussy\n"
     ]
    }
   ],
   "source": [
    "# Day 16(07-04-2019)\n",
    "# Introduction to Positional Arguments.\n",
    "\n",
    "def describe_pet(animal_type,pet_name):\n",
    "    \"\"\"Display Information about a pet\"\"\"\n",
    "    print(f\"\\n I have a {animal_type}\")\n",
    "    print(f\"\\n my {animal_type}'s name is {pet_name}\")\n",
    "    \n",
    "describe_pet('cat','pussy')"
   ]
  },
  {
   "cell_type": "code",
   "execution_count": 3,
   "metadata": {},
   "outputs": [
    {
     "name": "stdout",
     "output_type": "stream",
     "text": [
      "\n",
      " I have a pussy\n",
      "\n",
      " my pussy's name is cat\n"
     ]
    }
   ],
   "source": [
    "def describe_pet(animal_type,pet_name):\n",
    "    \"\"\"Display Information about a pet\"\"\"\n",
    "    print(f\"\\n I have a {animal_type}\")\n",
    "    print(f\"\\n my {animal_type}'s name is {pet_name}\")\n",
    "    \n",
    "describe_pet('pussy','cat')"
   ]
  },
  {
   "cell_type": "code",
   "execution_count": 5,
   "metadata": {},
   "outputs": [
    {
     "name": "stdout",
     "output_type": "stream",
     "text": [
      "\n",
      " I have a Honda\n",
      "\n",
      " my Honda's is of color white\n"
     ]
    }
   ],
   "source": [
    "# Introduction o keyword arguments!!\n",
    "\n",
    "def describe_car(car_model,color):\n",
    "    \"\"\"Display Information about a Car\"\"\"\n",
    "    print(f\"\\n I have a {car_model}\")\n",
    "    print(f\"\\n my {car_model}'s is of color {color}\")\n",
    "    \n",
    "describe_car(car_model='Honda', color='white')"
   ]
  },
  {
   "cell_type": "code",
   "execution_count": 9,
   "metadata": {},
   "outputs": [
    {
     "name": "stdout",
     "output_type": "stream",
     "text": [
      "Faiyaz Shaik\n"
     ]
    }
   ],
   "source": [
    "# Introduction to returning the value from a function:\n",
    "\n",
    "def get_formatted_name(first_name, last_name):\n",
    "    \"\"\"Return fullname, neatley formatted\"\"\"\n",
    "    full_name = f\"{first_name} {last_name}\"\n",
    "    return full_name.title()\n",
    "\n",
    "python_teacher = get_formatted_name ('faiyaz','shaik')\n",
    "print(python_teacher)"
   ]
  },
  {
   "cell_type": "code",
   "execution_count": 13,
   "metadata": {},
   "outputs": [
    {
     "name": "stdout",
     "output_type": "stream",
     "text": [
      "Sachin Tendulkar\n"
     ]
    }
   ],
   "source": [
    "best_cricketer = get_formatted_name ('sachin','tendulkar')\n",
    "print(best_cricketer)"
   ]
  }
 ],
 "metadata": {
  "kernelspec": {
   "display_name": "Python 3",
   "language": "python",
   "name": "python3"
  },
  "language_info": {
   "codemirror_mode": {
    "name": "ipython",
    "version": 3
   },
   "file_extension": ".py",
   "mimetype": "text/x-python",
   "name": "python",
   "nbconvert_exporter": "python",
   "pygments_lexer": "ipython3",
   "version": "3.7.3"
  }
 },
 "nbformat": 4,
 "nbformat_minor": 2
}
