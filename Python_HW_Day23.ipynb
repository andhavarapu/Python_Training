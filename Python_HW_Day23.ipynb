{
 "cells": [
  {
   "cell_type": "code",
   "execution_count": 4,
   "metadata": {},
   "outputs": [
    {
     "name": "stdout",
     "output_type": "stream",
     "text": [
      "Hey I  am MOM\n",
      "Hey I am son of my MOM & DAD\n"
     ]
    },
    {
     "data": {
      "text/plain": [
       "'Hey I am DAD'"
      ]
     },
     "execution_count": 4,
     "metadata": {},
     "output_type": "execute_result"
    }
   ],
   "source": [
    "# Python_HW_Day23\n",
    "# 16Jul2019.\n",
    "\n",
    "# Using Multiple parent class:\n",
    "\n",
    "class mom:\n",
    "    var1=\"Hey I  am MOM\"\n",
    "class dad:\n",
    "    var2=\"Hey I am DAD\"\n",
    "class child(mom,dad):\n",
    "    var3=\"Hey I am son of my MOM & DAD\"\n",
    "\n",
    "childobj=child()\n",
    "\n",
    "print(childobj.var1)\n",
    "print(childobj.var3)\n",
    "childobj.var2"
   ]
  },
  {
   "cell_type": "code",
   "execution_count": null,
   "metadata": {},
   "outputs": [],
   "source": [
    "# Third Party Libraries ...!!!\n",
    "--numpy, pandas and matplot for visulization.....!!!\n",
    "\n",
    "import numpy"
   ]
  },
  {
   "cell_type": "code",
   "execution_count": null,
   "metadata": {},
   "outputs": [],
   "source": [
    "#... Introduction to modules...!!!\n",
    "\n",
    "#save the code as files name i.e save file as car.py where u have car class and it's functions.\n",
    "\n",
    "# You need to \n",
    "\n",
    "import car\n",
    "car.get_descriptive_name()"
   ]
  }
 ],
 "metadata": {
  "kernelspec": {
   "display_name": "Python 3",
   "language": "python",
   "name": "python3"
  },
  "language_info": {
   "codemirror_mode": {
    "name": "ipython",
    "version": 3
   },
   "file_extension": ".py",
   "mimetype": "text/x-python",
   "name": "python",
   "nbconvert_exporter": "python",
   "pygments_lexer": "ipython3",
   "version": "3.7.3"
  }
 },
 "nbformat": 4,
 "nbformat_minor": 2
}
