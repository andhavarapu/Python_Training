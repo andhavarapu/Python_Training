{
 "cells": [
  {
   "cell_type": "code",
   "execution_count": 1,
   "metadata": {},
   "outputs": [
    {
     "name": "stdout",
     "output_type": "stream",
     "text": [
      "['Apple', 'Banana', 'Mango', 'Orange']\n"
     ]
    }
   ],
   "source": [
    "fruits = ['Apple','Banana','Mango','Orange']\n",
    "print (fruits)"
   ]
  },
  {
   "cell_type": "code",
   "execution_count": 3,
   "metadata": {},
   "outputs": [
    {
     "name": "stdout",
     "output_type": "stream",
     "text": [
      "['Orange', 'Mango', 'Banana', 'Apple']\n"
     ]
    }
   ],
   "source": [
    "# Print list in reverse order\n",
    "fruits.reverse()\n",
    "print (fruits)"
   ]
  },
  {
   "cell_type": "code",
   "execution_count": 4,
   "metadata": {},
   "outputs": [
    {
     "name": "stdout",
     "output_type": "stream",
     "text": [
      "Initial Blank List\n",
      "[]\n"
     ]
    }
   ],
   "source": [
    "# Create an Empty List\n",
    "\n",
    "Bikes = []\n",
    "print (\"Initial Blank List\")\n",
    "print (Bikes)"
   ]
  },
  {
   "cell_type": "code",
   "execution_count": 12,
   "metadata": {},
   "outputs": [
    {
     "name": "stdout",
     "output_type": "stream",
     "text": [
      "Array of Fruits:\n",
      "['Apple', 'Banana', 'Mango', 'Orange']\n",
      "\n",
      " Array of Fruits in Reverse order:\n",
      "['Orange', 'Mango', 'Banana', 'Apple']\n",
      "\n",
      " Printing last value using negative indexing:\n",
      "Apple\n",
      "\n",
      " Printing last but one value using negative indexing:\n",
      "Banana\n"
     ]
    }
   ],
   "source": [
    "# Negative indexing, -1 prints last value of the list and -2 prints last butone value.\n",
    "print ('Array of Fruits:')\n",
    "print (fruits)\n",
    "print ('\\n Array of Fruits in Reverse order:')\n",
    "fruits.reverse()\n",
    "print (fruits)\n",
    "print ('\\n Printing last value using negative indexing:')\n",
    "print (fruits[-1])\n",
    "print ('\\n Printing last but one value using negative indexing:')\n",
    "print (fruits[-2])"
   ]
  }
 ],
 "metadata": {
  "kernelspec": {
   "display_name": "Python 3",
   "language": "python",
   "name": "python3"
  },
  "language_info": {
   "codemirror_mode": {
    "name": "ipython",
    "version": 3
   },
   "file_extension": ".py",
   "mimetype": "text/x-python",
   "name": "python",
   "nbconvert_exporter": "python",
   "pygments_lexer": "ipython3",
   "version": "3.7.3"
  }
 },
 "nbformat": 4,
 "nbformat_minor": 2
}
