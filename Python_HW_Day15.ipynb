{
 "cells": [
  {
   "cell_type": "code",
   "execution_count": 5,
   "metadata": {},
   "outputs": [
    {
     "name": "stdout",
     "output_type": "stream",
     "text": [
      "\n",
      "Current_Number = 1\n",
      "\n",
      "Current_Number = 2\n",
      "\n",
      "Current_Number = 3\n",
      "\n",
      "Current_Number = 4\n",
      "\n",
      "Current_Number = 5\n"
     ]
    }
   ],
   "source": [
    "# While loop continution .... !!\n",
    "\n",
    "current_number = 1\n",
    "#print (current_number)\n",
    "while current_number <=5:\n",
    "    print(f\"\\nCurrent_Number = {current_number}\")\n",
    "    current_number +=1"
   ]
  },
  {
   "cell_type": "code",
   "execution_count": 7,
   "metadata": {},
   "outputs": [
    {
     "name": "stdout",
     "output_type": "stream",
     "text": [
      "\n",
      " Tell me something, and I will repeat it\n",
      " Enter 'Quit' to end the programHello\n",
      "\n",
      " Tell me something, and I will repeat it\n",
      " Enter 'Quit' to end the programquit\n",
      "\n",
      " Tell me something, and I will repeat it\n",
      " Enter 'Quit' to end the programQuit\n",
      "Quit\n"
     ]
    }
   ],
   "source": [
    "# Let the user choose when to quit:\n",
    "\n",
    "prompt = \"\\n Tell me something, and I will repeat it\"\n",
    "prompt += \"\\n Enter 'Quit' to end the program \"\n",
    "message = \"   \"\n",
    "while message !='Quit':\n",
    "    message = input(prompt)\n",
    "print(message)"
   ]
  },
  {
   "cell_type": "code",
   "execution_count": 11,
   "metadata": {},
   "outputs": [
    {
     "name": "stdout",
     "output_type": "stream",
     "text": [
      "Hello\n"
     ]
    }
   ],
   "source": [
    "# Introduction to functions\n",
    "\n",
    "# doc string\n",
    "# Writing doc strings and indentation need to be maintained.\n",
    "# defining a function in python:\n",
    "\n",
    "def Greet_User ():\n",
    "    \"\"\"\"Display a simple greeting\"\"\"\n",
    "    print(\"Hello\")\n",
    "Greet_User()\n"
   ]
  },
  {
   "cell_type": "code",
   "execution_count": 13,
   "metadata": {},
   "outputs": [
    {
     "name": "stdout",
     "output_type": "stream",
     "text": [
      "\n",
      " Tell me something, and I will repeat it\n",
      " Enter 'Quit' to end the program hello\n",
      "\n",
      " Tell me something, and I will repeat it\n",
      " Enter 'Quit' to end the program hi\n",
      "\n",
      " Tell me something, and I will repeat it\n",
      " Enter 'Quit' to end the program quit\n",
      "quit\n"
     ]
    }
   ],
   "source": [
    "# Let the user choose when to quit:\n",
    "\n",
    "prompt = \"\\n Tell me something, and I will repeat it\"\n",
    "prompt += \"\\n Enter 'Quit' to end the program \"\n",
    "#message = \"   \"\n",
    "while message !='quit':\n",
    "    message = input(prompt)\n",
    "print(message)"
   ]
  },
  {
   "cell_type": "code",
   "execution_count": 14,
   "metadata": {},
   "outputs": [
    {
     "name": "stdout",
     "output_type": "stream",
     "text": [
      "Hello, Manoj!\n"
     ]
    }
   ],
   "source": [
    "# Passing information to a function:\n",
    "\n",
    "def greet_user(username):\n",
    "    print(f\"Hello, {username.title()}!\")\n",
    "greet_user('Manoj')\n",
    "\n",
    "# In the above example username is \"Parameter\"\n",
    "# In the above example Manoj is \"Argument\""
   ]
  },
  {
   "cell_type": "code",
   "execution_count": null,
   "metadata": {},
   "outputs": [],
   "source": [
    "# While Defining functions we need to have parameter\n",
    "# While calling function we need to have argument."
   ]
  }
 ],
 "metadata": {
  "kernelspec": {
   "display_name": "Python 3",
   "language": "python",
   "name": "python3"
  },
  "language_info": {
   "codemirror_mode": {
    "name": "ipython",
    "version": 3
   },
   "file_extension": ".py",
   "mimetype": "text/x-python",
   "name": "python",
   "nbconvert_exporter": "python",
   "pygments_lexer": "ipython3",
   "version": "3.7.3"
  }
 },
 "nbformat": 4,
 "nbformat_minor": 2
}
