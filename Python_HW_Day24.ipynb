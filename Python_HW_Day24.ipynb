{
 "cells": [
  {
   "cell_type": "code",
   "execution_count": 3,
   "metadata": {},
   "outputs": [
    {
     "name": "stdout",
     "output_type": "stream",
     "text": [
      "Enter the value for x:10\n",
      "Enter the value for y:20\n",
      "30\n",
      "-10\n",
      "200\n"
     ]
    }
   ],
   "source": [
    "# Python_HW_Day24, i.e. 17Jul2019\n",
    "\n",
    "# Introductions to modules....!\n",
    "# We will be using the modules for modularization of the code!!\n",
    "# We don't want to expose the core logic of the code to everyone, then use the concept of modules...!!!\n",
    "\n",
    "import numpy as np\n",
    "\n",
    "x = int(input(\"Enter the value for x:\"))\n",
    "y = int(input(\"Enter the value for y:\"))\n",
    "\n",
    "vec1 = np.array([x,y])\n",
    "vec2 = np.array([-x,-y])\n",
    "\n",
    "#Vec1 & Vec2 are part of numpy, we are NOT going to use in this example.\n",
    "\n",
    "def add(a,b):\n",
    "    return a+b\n",
    "\n",
    "def sub(a,b):\n",
    "    return a-b\n",
    "\n",
    "def mult(a,b):\n",
    "    return a*b\n",
    "\n",
    "result1=add(x,y)\n",
    "result2=sub(x,y)\n",
    "result3=mult(x,y)\n",
    "\n",
    "print(result1)\n",
    "print(result2)\n",
    "print(result3)\n",
    "\n",
    "# In this example we have add,sub,mult functions in same code hence it worked.\n",
    "# let's move the core logic into different file and import the logic using file instead of writing."
   ]
  },
  {
   "cell_type": "code",
   "execution_count": 1,
   "metadata": {},
   "outputs": [
    {
     "name": "stdout",
     "output_type": "stream",
     "text": [
      "Enter the value for x:100\n",
      "Enter the value for y:5\n"
     ]
    },
    {
     "ename": "NameError",
     "evalue": "name 'add' is not defined",
     "output_type": "error",
     "traceback": [
      "\u001b[0;31m---------------------------------------------------------------------------\u001b[0m",
      "\u001b[0;31mNameError\u001b[0m                                 Traceback (most recent call last)",
      "\u001b[0;32m<ipython-input-1-cc6b34ecb141>\u001b[0m in \u001b[0;36m<module>\u001b[0;34m\u001b[0m\n\u001b[1;32m     10\u001b[0m \u001b[0;34m\u001b[0m\u001b[0m\n\u001b[1;32m     11\u001b[0m \u001b[0;34m\u001b[0m\u001b[0m\n\u001b[0;32m---> 12\u001b[0;31m \u001b[0mresult1\u001b[0m\u001b[0;34m=\u001b[0m\u001b[0madd\u001b[0m\u001b[0;34m(\u001b[0m\u001b[0mx\u001b[0m\u001b[0;34m,\u001b[0m\u001b[0my\u001b[0m\u001b[0;34m)\u001b[0m\u001b[0;34m\u001b[0m\u001b[0;34m\u001b[0m\u001b[0m\n\u001b[0m\u001b[1;32m     13\u001b[0m \u001b[0mresult2\u001b[0m\u001b[0;34m=\u001b[0m\u001b[0msub\u001b[0m\u001b[0;34m(\u001b[0m\u001b[0mx\u001b[0m\u001b[0;34m,\u001b[0m\u001b[0my\u001b[0m\u001b[0;34m)\u001b[0m\u001b[0;34m\u001b[0m\u001b[0;34m\u001b[0m\u001b[0m\n\u001b[1;32m     14\u001b[0m \u001b[0mresult3\u001b[0m\u001b[0;34m=\u001b[0m\u001b[0mmult\u001b[0m\u001b[0;34m(\u001b[0m\u001b[0mx\u001b[0m\u001b[0;34m,\u001b[0m\u001b[0my\u001b[0m\u001b[0;34m)\u001b[0m\u001b[0;34m\u001b[0m\u001b[0;34m\u001b[0m\u001b[0m\n",
      "\u001b[0;31mNameError\u001b[0m: name 'add' is not defined"
     ]
    }
   ],
   "source": [
    "import numpy as np\n",
    "\n",
    "x = int(input(\"Enter the value for x:\"))\n",
    "y = int(input(\"Enter the value for y:\"))\n",
    "\n",
    "vec1 = np.array([x,y])\n",
    "vec2 = np.array([-x,-y])\n",
    "\n",
    "#Vec1 & Vec2 are part of numpy, we are NOT going to use in this example.\n",
    "\n",
    "\n",
    "result1=add(x,y)\n",
    "result2=sub(x,y)\n",
    "result3=mult(x,y)\n",
    "\n",
    "print(result1)\n",
    "print(result2)\n",
    "print(result3)"
   ]
  },
  {
   "cell_type": "code",
   "execution_count": 4,
   "metadata": {},
   "outputs": [
    {
     "name": "stdout",
     "output_type": "stream",
     "text": [
      "Enter the value for x:100\n",
      "Enter the value for y:200\n",
      "300\n",
      "-100\n",
      "20000\n"
     ]
    }
   ],
   "source": [
    "import py_logic as py\n",
    "\n",
    "x = int(input(\"Enter the value for x:\"))\n",
    "y = int(input(\"Enter the value for y:\"))\n",
    "\n",
    "\n",
    "#Vec1 & Vec2 are part of numpy, we are NOT going to use in this example.\n",
    "\n",
    "\n",
    "result1=py.add(x,y)\n",
    "result2=py.sub(x,y)\n",
    "result3=py.mult(x,y)\n",
    "\n",
    "print(result1)\n",
    "print(result2)\n",
    "print(result3)"
   ]
  }
 ],
 "metadata": {
  "kernelspec": {
   "display_name": "Python 3",
   "language": "python",
   "name": "python3"
  },
  "language_info": {
   "codemirror_mode": {
    "name": "ipython",
    "version": 3
   },
   "file_extension": ".py",
   "mimetype": "text/x-python",
   "name": "python",
   "nbconvert_exporter": "python",
   "pygments_lexer": "ipython3",
   "version": "3.7.3"
  }
 },
 "nbformat": 4,
 "nbformat_minor": 2
}
