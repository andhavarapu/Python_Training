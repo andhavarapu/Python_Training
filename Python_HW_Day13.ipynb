{
 "cells": [
  {
   "cell_type": "code",
   "execution_count": 1,
   "metadata": {},
   "outputs": [
    {
     "name": "stdout",
     "output_type": "stream",
     "text": [
      "East or West sachin is the:Best\n",
      "Best\n"
     ]
    }
   ],
   "source": [
    "# How to achieve user inputs....while running a programm .. input()\n",
    "\n",
    "message = input(\"East or West sachin is the:\")\n",
    "print (message)"
   ]
  },
  {
   "cell_type": "code",
   "execution_count": 4,
   "metadata": {},
   "outputs": [
    {
     "name": "stdout",
     "output_type": "stream",
     "text": [
      "Please enter your username/fullname:Manoj Kumar Andhavarapu\n",
      "Manoj Kumar Andhavarapu\n"
     ]
    }
   ],
   "source": [
    "msg = input(\"Please enter your username/fullname:\")\n",
    "print(msg)"
   ]
  },
  {
   "cell_type": "code",
   "execution_count": 7,
   "metadata": {},
   "outputs": [
    {
     "name": "stdout",
     "output_type": "stream",
     "text": [
      "Please enter your best friend:Chaitanya\n",
      "\n",
      " Hello, Chaitanya!\n"
     ]
    }
   ],
   "source": [
    "name = input(\"Please enter your best friend:\")\n",
    "print(f\"\\n Hello, {name}!\" )"
   ]
  },
  {
   "cell_type": "code",
   "execution_count": 9,
   "metadata": {},
   "outputs": [
    {
     "name": "stdout",
     "output_type": "stream",
     "text": [
      "Please enter your first name:Manoj\n",
      "Please enter your age:34\n",
      "\n",
      "User Manoj's age is 34\n"
     ]
    }
   ],
   "source": [
    "firstname = input(\"Please enter your first name:\")\n",
    "age = input(\"Please enter your age:\")\n",
    "print (f\"\\nUser {firstname}'s age is {age}\")"
   ]
  },
  {
   "cell_type": "code",
   "execution_count": 10,
   "metadata": {},
   "outputs": [],
   "source": [
    "# by default input function treats it's input value as string, if you want to convert the \n",
    "# datatype, then you need to explicitly convert it's datatype.\n",
    "\n",
    "age_2 = int(age)"
   ]
  }
 ],
 "metadata": {
  "kernelspec": {
   "display_name": "Python 3",
   "language": "python",
   "name": "python3"
  },
  "language_info": {
   "codemirror_mode": {
    "name": "ipython",
    "version": 3
   },
   "file_extension": ".py",
   "mimetype": "text/x-python",
   "name": "python",
   "nbconvert_exporter": "python",
   "pygments_lexer": "ipython3",
   "version": "3.7.3"
  }
 },
 "nbformat": 4,
 "nbformat_minor": 2
}
