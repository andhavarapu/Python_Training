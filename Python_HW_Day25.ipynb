{
 "cells": [
  {
   "cell_type": "code",
   "execution_count": 1,
   "metadata": {},
   "outputs": [
    {
     "name": "stdout",
     "output_type": "stream",
     "text": [
      "12345\n",
      "67890\n",
      "12.34\n",
      "56.789\n",
      "\n"
     ]
    }
   ],
   "source": [
    "# Python_HW_Day25 [i.e. 19Jul2019]\n",
    "# Files and Exceptions.\n",
    "# Introduction to working with files....!!\n",
    "# How to read a file..\n",
    "\n",
    "# Create a random file\n",
    "\n",
    "# Sample file\n",
    "\n",
    "#(base) andhavarapu@andhavarapu-glaptop:~/SW-DUMP/python_hw$ pwd\n",
    "#/home/andhavarapu/SW-DUMP/python_hw\n",
    "#(base) andhavarapu@andhavarapu-glaptop:~/SW-DUMP/python_hw$ cat digits_file.txt\n",
    "#12345\n",
    "#67890\n",
    "#12.34\n",
    "#56.789\n",
    "#(base) andhavarapu@andhavarapu-glaptop:~/SW-DUMP/python_hw$ \n",
    "\n",
    "with open('digits_file.txt') as file_object:\n",
    "    contents = file_object.read()\n",
    "\n",
    "print(contents)\n"
   ]
  },
  {
   "cell_type": "code",
   "execution_count": 3,
   "metadata": {},
   "outputs": [
    {
     "name": "stdout",
     "output_type": "stream",
     "text": [
      "12345\n",
      "67890\n",
      "12.34\n",
      "56.789\n",
      "\n"
     ]
    }
   ],
   "source": [
    "#.... have o specify a path in our local system rather than uploading the file in Jupyter notebook.\n",
    "\n",
    "with open('/home/andhavarapu/SW-DUMP/python_hw/digits_file.txt') as number_file:\n",
    "    numbers = number_file.read()\n",
    "\n",
    "print (numbers)"
   ]
  },
  {
   "cell_type": "code",
   "execution_count": 12,
   "metadata": {},
   "outputs": [
    {
     "name": "stdout",
     "output_type": "stream",
     "text": [
      "ICC India Cricket Team for 2019 World Cup : \n",
      "\n",
      "1. Virat Kohli\n",
      "2. Rohit Sharma\n",
      "3. M.S. Dhoni\n",
      "4. K.L. Rahul\n",
      "5. Jaspreet Bhumra\n",
      "6. Rushab Pant\n",
      "7. Kuldeep Yadav\n",
      "8. Mohammad Shami\n",
      "9. Hardik Pandya\n",
      "10. Ravindra Jadeja\n",
      "11. Shekhar Dhawan\n",
      "\n",
      "1. VIRAT KOHLI\n",
      "2. ROHIT SHARMA\n",
      "3. M.S. DHONI\n",
      "4. K.L. RAHUL\n",
      "5. JASPREET BHUMRA\n",
      "6. RUSHAB PANT\n",
      "7. KULDEEP YADAV\n",
      "8. MOHAMMAD SHAMI\n",
      "9. HARDIK PANDYA\n",
      "10. RAVINDRA JADEJA\n",
      "11. SHEKHAR DHAWAN\n",
      "\n",
      "1. virat kohli\n",
      "2. rohit sharma\n",
      "3. m.s. dhoni\n",
      "4. k.l. rahul\n",
      "5. jaspreet bhumra\n",
      "6. rushab pant\n",
      "7. kuldeep yadav\n",
      "8. mohammad shami\n",
      "9. hardik pandya\n",
      "10. ravindra jadeja\n",
      "11. shekhar dhawan\n",
      "\n",
      "1. Virat Kohli\n",
      "2. Rohit Sharma\n",
      "3. M.S. Dhoni\n",
      "4. K.L. Rahul\n",
      "5. Jaspreet Bhumra\n",
      "6. Rushab Pant\n",
      "7. Kuldeep Yadav\n",
      "8. Mohammad Shami\n",
      "9. Hardik Pandya\n",
      "10. Ravindra Jadeja\n",
      "11. Shekhar Dhawan\n",
      "\n"
     ]
    }
   ],
   "source": [
    "# Created another sample file.\n",
    "\n",
    "# (base) andhavarapu@andhavarapu-glaptop:~/SW-DUMP/python_hw$ pwd;ls -ltr cricket_players.txt; cat cricket_players.txt \n",
    "# /home/andhavarapu/SW-DUMP/python_hw\n",
    "# -rw-r--r-- 1 andhavarapu primarygroup 184 Jul 22 16:12 cricket_players.txt\n",
    "# 1. Virat Kohli\n",
    "# 2. Rohit Sharma\n",
    "# 3. M.S. Dhoni\n",
    "# 4. K.L. Rahul\n",
    "# 5. Jaspreet Bhumra\n",
    "# 6. Rushab Pant\n",
    "# 7. Kuldeep Yadav\n",
    "# 8. Mohammad Shami\n",
    "# 9. Hardik Pandya\n",
    "# 10. Ravindra Jadeja\n",
    "# 11. Shekhar Dhawan\n",
    "#(base) andhavarapu@andhavarapu-glaptop:~/SW-DUMP/python_hw$ \n",
    "\n",
    "with open('/home/andhavarapu/SW-DUMP/python_hw/cricket_players.txt') as players_list:\n",
    "    players = players_list.read()\n",
    "    \n",
    "print(\"ICC India Cricket Team for 2019 World Cup : \\n\")\n",
    "print(players)\n",
    "print(players.upper())\n",
    "print(players.lower())\n",
    "print(players.title())\n"
   ]
  },
  {
   "cell_type": "code",
   "execution_count": 13,
   "metadata": {},
   "outputs": [
    {
     "name": "stdout",
     "output_type": "stream",
     "text": [
      "ICC India Cricket Team for 2019 World Cup : \n",
      "\n",
      "1. Virat Kohli\n",
      "2. Rohit Sharma\n",
      "3. M.S. Dhoni\n",
      "4. K.L. Rahul\n",
      "5. Jaspreet Bhumra\n",
      "6. Rushab Pant\n",
      "7. Kuldeep Yadav\n",
      "8. Mohammad Shami\n",
      "9. Hardik Pandya\n",
      "10. Ravindra Jadeja\n",
      "11. Shekhar Dhawan\n",
      "\n"
     ]
    }
   ],
   "source": [
    "file_path = '/home/andhavarapu/SW-DUMP/python_hw/cricket_players.txt'\n",
    "\n",
    "with open(file_path) as cricket_players:\n",
    "    Players = cricket_players.read()\n",
    "    \n",
    "print(\"ICC India Cricket Team for 2019 World Cup : \\n\")\n",
    "print(players)"
   ]
  }
 ],
 "metadata": {
  "kernelspec": {
   "display_name": "Python 3",
   "language": "python",
   "name": "python3"
  },
  "language_info": {
   "codemirror_mode": {
    "name": "ipython",
    "version": 3
   },
   "file_extension": ".py",
   "mimetype": "text/x-python",
   "name": "python",
   "nbconvert_exporter": "python",
   "pygments_lexer": "ipython3",
   "version": "3.7.3"
  }
 },
 "nbformat": 4,
 "nbformat_minor": 2
}
