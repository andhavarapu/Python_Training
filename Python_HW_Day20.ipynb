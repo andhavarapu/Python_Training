{
 "cells": [
  {
   "cell_type": "code",
   "execution_count": 1,
   "metadata": {},
   "outputs": [
    {
     "name": "stdout",
     "output_type": "stream",
     "text": [
      "Hello, Manoj\n"
     ]
    }
   ],
   "source": [
    "# Day 20 i.e 10Jul2019(wednesday)\n",
    "\n",
    "# ...class,method and at last object.... these things need to be kept in mind during classes.\n",
    "# class is a blueprint.\n",
    "# method... is not blueprint, but a function called outside a class.\n",
    "# object.... key player in a class\n",
    "# some predefined terms....to be kept in mind while writing classes.\n",
    "# method.\n",
    "# def example(self)..... predefined thing\n",
    "\n",
    "class ClassName:\n",
    "    def createname(self,name):\n",
    "        self.name = name\n",
    "    \n",
    "    def displayname(self):\n",
    "        return self.name\n",
    "    \n",
    "    def saying(self):\n",
    "        print(f\"Hello, {self.name}\")\n",
    "\n",
    "#createname,displayname,saying are some example of method.\n",
    "\n",
    "ClassName\n",
    "first = ClassName()\n",
    "\n",
    "#first is a object which will be referred for Class i.e. ClassName()\n",
    "\n",
    "first.createname('Manoj')\n",
    "first.displayname()\n",
    "first.saying()"
   ]
  },
  {
   "cell_type": "code",
   "execution_count": 3,
   "metadata": {},
   "outputs": [
    {
     "ename": "NameError",
     "evalue": "name 'units' is not defined",
     "output_type": "error",
     "traceback": [
      "\u001b[0;31m---------------------------------------------------------------------------\u001b[0m",
      "\u001b[0;31mNameError\u001b[0m                                 Traceback (most recent call last)",
      "\u001b[0;32m<ipython-input-3-0aea7eb0a376>\u001b[0m in \u001b[0;36m<module>\u001b[0;34m\u001b[0m\n\u001b[1;32m     20\u001b[0m \u001b[0;34m\u001b[0m\u001b[0m\n\u001b[1;32m     21\u001b[0m \u001b[0mforecast\u001b[0m\u001b[0;34m.\u001b[0m\u001b[0mtemp\u001b[0m\u001b[0;34m(\u001b[0m\u001b[0;36m30\u001b[0m\u001b[0;34m)\u001b[0m\u001b[0;34m\u001b[0m\u001b[0;34m\u001b[0m\u001b[0m\n\u001b[0;32m---> 22\u001b[0;31m \u001b[0mforecast\u001b[0m\u001b[0;34m.\u001b[0m\u001b[0mcold\u001b[0m\u001b[0;34m(\u001b[0m\u001b[0;34m)\u001b[0m\u001b[0;34m\u001b[0m\u001b[0;34m\u001b[0m\u001b[0m\n\u001b[0m\u001b[1;32m     23\u001b[0m \u001b[0mforecast\u001b[0m\u001b[0;34m.\u001b[0m\u001b[0mwarm\u001b[0m\u001b[0;34m(\u001b[0m\u001b[0;34m)\u001b[0m\u001b[0;34m\u001b[0m\u001b[0;34m\u001b[0m\u001b[0m\n",
      "\u001b[0;32m<ipython-input-3-0aea7eb0a376>\u001b[0m in \u001b[0;36mcold\u001b[0;34m(self)\u001b[0m\n\u001b[1;32m      7\u001b[0m \u001b[0;34m\u001b[0m\u001b[0m\n\u001b[1;32m      8\u001b[0m     \u001b[0;32mdef\u001b[0m \u001b[0mcold\u001b[0m\u001b[0;34m(\u001b[0m\u001b[0mself\u001b[0m\u001b[0;34m)\u001b[0m\u001b[0;34m:\u001b[0m\u001b[0;34m\u001b[0m\u001b[0;34m\u001b[0m\u001b[0m\n\u001b[0;32m----> 9\u001b[0;31m         \u001b[0;32mif\u001b[0m \u001b[0munits\u001b[0m \u001b[0;34m<\u001b[0m \u001b[0;36m10\u001b[0m\u001b[0;34m:\u001b[0m\u001b[0;34m\u001b[0m\u001b[0;34m\u001b[0m\u001b[0m\n\u001b[0m\u001b[1;32m     10\u001b[0m             \u001b[0mprint\u001b[0m\u001b[0;34m(\u001b[0m\u001b[0;34mf\"Hello, Current temprature is {self.number} so please wear warm cloths\"\u001b[0m\u001b[0;34m)\u001b[0m\u001b[0;34m\u001b[0m\u001b[0;34m\u001b[0m\u001b[0m\n\u001b[1;32m     11\u001b[0m         \u001b[0;32melse\u001b[0m\u001b[0;34m:\u001b[0m\u001b[0;34m\u001b[0m\u001b[0;34m\u001b[0m\u001b[0m\n",
      "\u001b[0;31mNameError\u001b[0m: name 'units' is not defined"
     ]
    }
   ],
   "source": [
    "# Another own example of Classes\n",
    "\n",
    "class Weather:\n",
    "    \n",
    "    def temp(self,units):\n",
    "        self.units = units\n",
    "    \n",
    "    def cold(self):\n",
    "        if units < 10:\n",
    "            print(f\"Hello, Current temprature is {self.number} so please wear warm cloths\")\n",
    "        else:\n",
    "            print(\"Hello you are good to go out\")\n",
    "    def warm(self):\n",
    "        if units > 20:\n",
    "            print(f\"Hello, current temprature is {self.number} so please apply sun cream lotion\")\n",
    "        else:\n",
    "            print(\"Hello you are good to go out\")\n",
    "Weather\n",
    "forecast = Weather()\n",
    "\n",
    "forecast.temp(30)\n",
    "forecast.cold()\n",
    "forecast.warm()"
   ]
  },
  {
   "cell_type": "code",
   "execution_count": null,
   "metadata": {},
   "outputs": [],
   "source": [
    "I will try the weather example later again!"
   ]
  }
 ],
 "metadata": {
  "kernelspec": {
   "display_name": "Python 3",
   "language": "python",
   "name": "python3"
  },
  "language_info": {
   "codemirror_mode": {
    "name": "ipython",
    "version": 3
   },
   "file_extension": ".py",
   "mimetype": "text/x-python",
   "name": "python",
   "nbconvert_exporter": "python",
   "pygments_lexer": "ipython3",
   "version": "3.7.3"
  }
 },
 "nbformat": 4,
 "nbformat_minor": 2
}
