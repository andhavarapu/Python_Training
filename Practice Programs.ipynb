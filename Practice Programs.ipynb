{
 "cells": [
  {
   "cell_type": "code",
   "execution_count": null,
   "metadata": {},
   "outputs": [],
   "source": [
    "#Practice Programs:\n",
    "\n",
    "# 1.Write the program for even number\n",
    "# 2.write the program for odd number\n",
    "# 3.write the program for prime number\n",
    "# 4.write the program for factorial\n",
    "# 5.write a program for palendrome"
   ]
  },
  {
   "cell_type": "code",
   "execution_count": 8,
   "metadata": {},
   "outputs": [
    {
     "name": "stdout",
     "output_type": "stream",
     "text": [
      "Enter your number: 5\n",
      "Number entered by you is Odd\n"
     ]
    }
   ],
   "source": [
    "# 1.Write the program for even/Odd number\n",
    "\n",
    "my_number = int(input(\"Enter your number: \"))\n",
    "\n",
    "num = my_number % 2\n",
    "\n",
    "if num == 0:\n",
    "    print(\"Number entered by you is Even\")\n",
    "else:\n",
    "    print(\"Number entered by you is Odd\")"
   ]
  },
  {
   "cell_type": "code",
   "execution_count": 14,
   "metadata": {},
   "outputs": [
    {
     "name": "stdout",
     "output_type": "stream",
     "text": [
      "Enter your number: 12\n",
      "Number entered by you is Even\n"
     ]
    }
   ],
   "source": [
    "# 1.Write the program for even/Odd number\n",
    "\n",
    "my_number = int(input(\"Enter your number: \"))\n",
    "\n",
    "num = my_number % 2\n",
    "\n",
    "if num == 0:\n",
    "    print(\"Number entered by you is Even\")\n",
    "else:\n",
    "    print(\"Number entered by you is Odd\")"
   ]
  },
  {
   "cell_type": "code",
   "execution_count": 40,
   "metadata": {},
   "outputs": [
    {
     "name": "stdout",
     "output_type": "stream",
     "text": [
      "<== Program to check whether number is Prime? ==>\n",
      "Enter a number:13\n",
      "13 is a prime number\n"
     ]
    }
   ],
   "source": [
    "# 3.write the program for prime number\n",
    "\n",
    "print (\"<== Program to check whether number is Prime? ==>\")\n",
    "num=int(input(\"Enter a number:\"))\n",
    "\n",
    "if num > 1:\n",
    "    for i in range(2,num//2):\n",
    "        if (num%i) == 0:\n",
    "            print(num,\"is NOT a prime number\")\n",
    "            break    \n",
    "    else:\n",
    "        print(num, \"is a prime number\")\n",
    "else:\n",
    "    print(num,\"is NOT a prime number\")"
   ]
  },
  {
   "cell_type": "code",
   "execution_count": 48,
   "metadata": {},
   "outputs": [
    {
     "name": "stdout",
     "output_type": "stream",
     "text": [
      "Enter number to check factorial: 6\n",
      "The factorial of 6 = 720\n"
     ]
    }
   ],
   "source": [
    "# 4.write the program for factorial\n",
    "\n",
    "num = int(input(\"Enter number to check factorial: \"))\n",
    "fact = 1\n",
    "\n",
    "for i in range(1,num+1):\n",
    "    fact = fact * i\n",
    "print(\"The factorial of\", num, \"=\", fact)"
   ]
  }
 ],
 "metadata": {
  "kernelspec": {
   "display_name": "Python 3",
   "language": "python",
   "name": "python3"
  },
  "language_info": {
   "codemirror_mode": {
    "name": "ipython",
    "version": 3
   },
   "file_extension": ".py",
   "mimetype": "text/x-python",
   "name": "python",
   "nbconvert_exporter": "python",
   "pygments_lexer": "ipython3",
   "version": "3.7.3"
  }
 },
 "nbformat": 4,
 "nbformat_minor": 2
}
