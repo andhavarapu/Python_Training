{
 "cells": [
  {
   "cell_type": "code",
   "execution_count": 3,
   "metadata": {},
   "outputs": [
    {
     "name": "stdout",
     "output_type": "stream",
     "text": [
      "Pre-defined measuremnts\n",
      "100\n",
      "200\n",
      "300\n",
      "\n",
      "Updated measuremnts\n",
      "400\n",
      "500\n",
      "600\n"
     ]
    }
   ],
   "source": [
    "# For looping in tuple ----\n",
    "measurements = (100,200,300)\n",
    "print (\"Pre-defined measuremnts\")\n",
    "for measurement in measurements:\n",
    "    print(measurement)\n",
    "\n",
    "measurements = (400,500,600)\n",
    "print (\"\\nUpdated measuremnts\")\n",
    "for measurement in measurements:\n",
    "    print (measurement)"
   ]
  },
  {
   "cell_type": "code",
   "execution_count": 14,
   "metadata": {},
   "outputs": [
    {
     "name": "stdout",
     "output_type": "stream",
     "text": [
      "Monday\n",
      "TUESDAY\n",
      "Wednesday\n",
      "Thursday\n",
      "Friday\n"
     ]
    }
   ],
   "source": [
    "# if statements -- test the conditions defined.\n",
    "# \"==\" equality condition.\n",
    "days = ['monday','tuesday','wednesday','thursday','friday']\n",
    "\n",
    "for day in days:\n",
    "    if day == 'tuesday':\n",
    "        print (day.upper())\n",
    "    else:\n",
    "        print (day.title())"
   ]
  },
  {
   "cell_type": "code",
   "execution_count": 15,
   "metadata": {},
   "outputs": [
    {
     "data": {
      "text/plain": [
       "False"
      ]
     },
     "execution_count": 15,
     "metadata": {},
     "output_type": "execute_result"
    }
   ],
   "source": [
    "#Always Remember Python is case sensitive.\n",
    "fruit = 'Mango'\n",
    "fruit == 'mango'"
   ]
  },
  {
   "cell_type": "code",
   "execution_count": 18,
   "metadata": {},
   "outputs": [
    {
     "name": "stdout",
     "output_type": "stream",
     "text": [
      "mango\n"
     ]
    },
    {
     "data": {
      "text/plain": [
       "True"
      ]
     },
     "execution_count": 18,
     "metadata": {},
     "output_type": "execute_result"
    }
   ],
   "source": [
    "print (fruit.lower())\n",
    "fruit.lower() == 'mango'"
   ]
  },
  {
   "cell_type": "code",
   "execution_count": 20,
   "metadata": {},
   "outputs": [
    {
     "name": "stdout",
     "output_type": "stream",
     "text": [
      "order for pineapple topping\n"
     ]
    }
   ],
   "source": [
    "# == is equal, how about not equal?\n",
    "# != -- is NOT equal denotion.\n",
    "\n",
    "topping = 'onion'\n",
    "if topping != 'pineapple':\n",
    "        print (\"order for pineapple topping\")"
   ]
  }
 ],
 "metadata": {
  "kernelspec": {
   "display_name": "Python 3",
   "language": "python",
   "name": "python3"
  },
  "language_info": {
   "codemirror_mode": {
    "name": "ipython",
    "version": 3
   },
   "file_extension": ".py",
   "mimetype": "text/x-python",
   "name": "python",
   "nbconvert_exporter": "python",
   "pygments_lexer": "ipython3",
   "version": "3.7.3"
  }
 },
 "nbformat": 4,
 "nbformat_minor": 2
}
