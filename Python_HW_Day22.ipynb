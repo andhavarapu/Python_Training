{
 "cells": [
  {
   "cell_type": "code",
   "execution_count": 4,
   "metadata": {},
   "outputs": [
    {
     "name": "stdout",
     "output_type": "stream",
     "text": [
      "HONDA CRV 2016\n"
     ]
    }
   ],
   "source": [
    "# Day#22 --> 07-15-2019 [Monday] --> Missed the class, Thanks Sri for sharing the knoweledge and notes.\n",
    "class car:\n",
    "        \"\"\"A simple attempt to represent a car\"\"\"\n",
    "\n",
    "        def __init__ (self, make, model, year):\n",
    "            \"\"\"Intialize attributes to describe the car\"\"\"\n",
    "            \n",
    "            self.make = make\n",
    "            self.model = model\n",
    "            self.year = year\n",
    "        \n",
    "        def get_describe_name(self):\n",
    "            \"\"\"Returns a neatly formatted name\"\"\"\n",
    "            long_name = f\"{self.make} {self.model} {self.year}\"\n",
    "            return long_name.upper()\n",
    "        \n",
    "my_new_car=car('honda','crv',2016) # this type of passing arguments is called runtime argument passing\n",
    "print(my_new_car.get_describe_name())"
   ]
  },
  {
   "cell_type": "code",
   "execution_count": 7,
   "metadata": {},
   "outputs": [
    {
     "name": "stdout",
     "output_type": "stream",
     "text": [
      "HOND CRV 2016\n",
      "This car has 0 in it.\n"
     ]
    }
   ],
   "source": [
    "# setting the default values or hardcode values\n",
    "\n",
    "class car:\n",
    "        \"\"\"A simple attempt to represent a car\"\"\"\n",
    "\n",
    "        def __init__ (self, make, model, year, meterreading):\n",
    "            \"\"\"Intialize attributes to describe the car\"\"\"\n",
    "            \n",
    "            self.make = make\n",
    "            self.model = model\n",
    "            self.year = year\n",
    "            self.meterreading = 0\n",
    "        \n",
    "        def get_describe_name(self):\n",
    "            \"\"\"Returns a neatly formatted name\"\"\"\n",
    "            long_name = f\"{self.make} {self.model} {self.year}\"\n",
    "            return long_name.upper()\n",
    "        \n",
    "        def read_meter(self):\n",
    "            \"\"\"Prints a statement to show the car reading\"\"\"\n",
    "            print(f\"This car has {self.meterreading} in it.\")\n",
    "            \n",
    "my_new_car = car('hond','crv',2016,20)\n",
    "print(my_new_car.get_describe_name())\n",
    "\n",
    "my_new_car.read_meter()"
   ]
  },
  {
   "cell_type": "code",
   "execution_count": null,
   "metadata": {},
   "outputs": [],
   "source": [
    "# *** What challenges did you face in your experience? Then we need to talk something about errors or indentation\n",
    "# errors or some other things needs to be explained."
   ]
  }
 ],
 "metadata": {
  "kernelspec": {
   "display_name": "Python 3",
   "language": "python",
   "name": "python3"
  },
  "language_info": {
   "codemirror_mode": {
    "name": "ipython",
    "version": 3
   },
   "file_extension": ".py",
   "mimetype": "text/x-python",
   "name": "python",
   "nbconvert_exporter": "python",
   "pygments_lexer": "ipython3",
   "version": "3.7.3"
  }
 },
 "nbformat": 4,
 "nbformat_minor": 2
}
