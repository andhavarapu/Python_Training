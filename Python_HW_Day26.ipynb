{
 "cells": [
  {
   "cell_type": "code",
   "execution_count": 2,
   "metadata": {},
   "outputs": [
    {
     "name": "stdout",
     "output_type": "stream",
     "text": [
      "2019 India Cricket World Cup Team Members: \n",
      "\n",
      "1. Virat Kohli\n",
      "2. Rohit Sharma\n",
      "3. M.S. Dhoni\n",
      "4. K.L. Rahul\n",
      "5. Jaspreet Bhumra\n",
      "6. Rushab Pant\n",
      "7. Kuldeep Yadav\n",
      "8. Mohammad Shami\n",
      "9. Hardik Pandya\n",
      "10. Ravindra Jadeja\n",
      "11. Shekhar Dhawan\n",
      "\n"
     ]
    }
   ],
   "source": [
    "# Python_HW_Day26 as of 21Jul2019(Sunday)\n",
    "# Reading and Writing Files\n",
    "\n",
    "file_path = '/home/andhavarapu/SW-DUMP/python_hw/cricket_players.txt'\n",
    "\n",
    "with open(file_path) as IND_Cricket_Team:\n",
    "    IND_Team = IND_Cricket_Team.read()\n",
    "    \n",
    "print(\"2019 India Cricket World Cup Team Members: \\n\")\n",
    "print(IND_Team)"
   ]
  },
  {
   "cell_type": "code",
   "execution_count": 4,
   "metadata": {},
   "outputs": [],
   "source": [
    "# How to write information to a specific file...\n",
    "\n",
    "filename = 'Program.txt'\n",
    "\n",
    "with open(filename, 'w') as file_object:\n",
    "    file_object.write(\"I Love Programming\")\n",
    "    \n",
    "#Please Note:\n",
    "# 1. \"w\" used to write into a file.\n",
    "# 2. \"r\" used to read a file.\n",
    "# 3. If you don't specify \"w\"/\"r\", python will cosnider to read the file.\n",
    "\n",
    "# Upon execution it created a file with specified information.\n",
    "\n",
    "# (base) andhavarapu@andhavarapu-glaptop:~/SW-DUMP/python_hw$ ls -ltr Program.txt \n",
    "# -rw-r--r-- 1 andhavarapu primarygroup 18 Jul 22 16:29 Program.txt\n",
    "# (base) andhavarapu@andhavarapu-glaptop:~/SW-DUMP/python_hw$ cat Program.txt \n",
    "# I Love Programming(base) andhavarapu@andhavarapu-glaptop:~/SW-DUMP/python_hw$ \n"
   ]
  },
  {
   "cell_type": "code",
   "execution_count": 11,
   "metadata": {},
   "outputs": [],
   "source": [
    "filename1 = 'WeekDays.txt'\n",
    "\n",
    "with open(filename1, 'w') as week_days:\n",
    "    #week_days.write(\"Sunday \\n\\t Monday \\n\\t\\t Tuesday \\n\\t\\t\\t Wednesday \\n\\t\\t\\t\\t Thursday \\n\\t\\t\\t\\t\\t Friday \\n\\t\\t\\t\\t\\t\\t Saturday \\n\\t\\t\\t\\t\\t\\t\\t\")\n",
    "    week_days.write(\"Sunday \\n\\t Monday \\n\\t\\t Tuesday \\n\\t\\t\\t Wednesday \\n\\t\\t\\t\\t Thursday \\n\\t\\t\\t\\t\\t Friday \\n\\t\\t\\t\\t\\t\\t Saturday \")\n",
    "\n",
    "    \n",
    "#Output showed as following.\n",
    "\n",
    "#(base) andhavarapu@andhavarapu-glaptop:~/SW-DUMP/python_hw$ pwd;ls -ltr WeekDays.txt \n",
    "#/home/andhavarapu/SW-DUMP/python_hw\n",
    "#-rw-r--r-- 1 andhavarapu primarygroup 90 Jul 22 16:41 WeekDays.txt\n",
    "#(base) andhavarapu@andhavarapu-glaptop:~/SW-DUMP/python_hw$ cat WeekDays.txt \n",
    "#Sunday \n",
    "#\t Monday \n",
    "#\t\t Tuesday \n",
    "#\t\t\t Wednesday \n",
    "#\t\t\t\t Thursday \n",
    "#\t\t\t\t\t Friday \n",
    "#\t\t\t\t\t\t Saturday \n",
    "#(base) andhavarapu@andhavarapu-glaptop:~/SW-DUMP/python_hw$ \n",
    "\n",
    "    "
   ]
  }
 ],
 "metadata": {
  "kernelspec": {
   "display_name": "Python 3",
   "language": "python",
   "name": "python3"
  },
  "language_info": {
   "codemirror_mode": {
    "name": "ipython",
    "version": 3
   },
   "file_extension": ".py",
   "mimetype": "text/x-python",
   "name": "python",
   "nbconvert_exporter": "python",
   "pygments_lexer": "ipython3",
   "version": "3.7.3"
  }
 },
 "nbformat": 4,
 "nbformat_minor": 2
}
