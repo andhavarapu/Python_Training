{
 "cells": [
  {
   "cell_type": "code",
   "execution_count": null,
   "metadata": {},
   "outputs": [],
   "source": [
    "# Python_HomeWork_Day11(6/27/19)\n",
    "# following topics covered\n",
    "# 1. del ()\n",
    "# 2. get ()\n",
    "# 3. Modifying Dictionaries\n",
    "# 4. Avoid Key Error\n",
    "# 5. f string usage"
   ]
  },
  {
   "cell_type": "code",
   "execution_count": 7,
   "metadata": {},
   "outputs": [
    {
     "name": "stdout",
     "output_type": "stream",
     "text": [
      "the color of the board is red.\n",
      "the color of the borad is now changed to yellow.\n"
     ]
    }
   ],
   "source": [
    "# mutable - Which can be changed\n",
    "# immutable - which cannot be changed, example 1.String and 2. Tuple\n",
    "# modifying value of a dictionary.\n",
    "\n",
    "board = {'color':'red'}\n",
    "print (f\"the color of the board is {board['color']}.\")\n",
    "\n",
    "board ['color'] = 'yellow'\n",
    "print (f\"the color of the borad is now changed to {board ['color']}.\")"
   ]
  },
  {
   "cell_type": "code",
   "execution_count": 8,
   "metadata": {},
   "outputs": [
    {
     "name": "stdout",
     "output_type": "stream",
     "text": [
      "{'color': 'red', 'points': 10}\n",
      "Deleted points from ex_1\n",
      "{'color': 'red'}\n"
     ]
    }
   ],
   "source": [
    "# Is python mutable (or) immutable -- it is mutable\n",
    "\n",
    "# deleting the value in the dictionary\n",
    "\n",
    "ex_1 = {'color':'red', 'points':10}\n",
    "print (ex_1)\n",
    "del ex_1['points']\n",
    "print ('Deleted points from ex_1')\n",
    "print (ex_1)"
   ]
  },
  {
   "cell_type": "code",
   "execution_count": 10,
   "metadata": {},
   "outputs": [
    {
     "name": "stdout",
     "output_type": "stream",
     "text": [
      "willow cast sport Cricket.\n"
     ]
    }
   ],
   "source": [
    "# declearing similar kind of objects\n",
    "# best practice to follow while declaring dictionary\n",
    "\n",
    "popular_sport = {'willow':'cricket','espn':'basketball','fox':'rugby','abc':'soccer',}\n",
    "live_sport=popular_sport['willow'].title()\n",
    "print (f\"willow cast sport {live_sport}.\")"
   ]
  },
  {
   "cell_type": "code",
   "execution_count": 11,
   "metadata": {},
   "outputs": [
    {
     "ename": "KeyError",
     "evalue": "'points'",
     "output_type": "error",
     "traceback": [
      "\u001b[0;31m---------------------------------------------------------------------------\u001b[0m",
      "\u001b[0;31mKeyError\u001b[0m                                  Traceback (most recent call last)",
      "\u001b[0;32m<ipython-input-11-3722ae3a6e23>\u001b[0m in \u001b[0;36m<module>\u001b[0;34m\u001b[0m\n\u001b[1;32m      4\u001b[0m \u001b[0;34m\u001b[0m\u001b[0m\n\u001b[1;32m      5\u001b[0m \u001b[0mex_2\u001b[0m\u001b[0;34m=\u001b[0m\u001b[0;34m{\u001b[0m\u001b[0;34m'color'\u001b[0m\u001b[0;34m:\u001b[0m\u001b[0;34m'orange'\u001b[0m\u001b[0;34m,\u001b[0m\u001b[0;34m'speed'\u001b[0m\u001b[0;34m:\u001b[0m\u001b[0;34m'slow'\u001b[0m\u001b[0;34m}\u001b[0m\u001b[0;34m\u001b[0m\u001b[0;34m\u001b[0m\u001b[0m\n\u001b[0;32m----> 6\u001b[0;31m \u001b[0mprint\u001b[0m \u001b[0;34m(\u001b[0m\u001b[0mex_2\u001b[0m\u001b[0;34m[\u001b[0m\u001b[0;34m'points'\u001b[0m\u001b[0;34m]\u001b[0m\u001b[0;34m)\u001b[0m\u001b[0;34m\u001b[0m\u001b[0;34m\u001b[0m\u001b[0m\n\u001b[0m",
      "\u001b[0;31mKeyError\u001b[0m: 'points'"
     ]
    }
   ],
   "source": [
    "# how to avoid \"Key Error\"...by using get() function in the dictionary\n",
    "# we can call the key and also declare a message to be printed if that key is missing in the given dictionary.\n",
    "# which will be useful during debug purpose.\n",
    "\n",
    "ex_2={'color':'orange','speed':'slow'}\n",
    "print (ex_2['points'])"
   ]
  },
  {
   "cell_type": "code",
   "execution_count": 12,
   "metadata": {},
   "outputs": [
    {
     "ename": "KeyError",
     "evalue": "'points'",
     "output_type": "error",
     "traceback": [
      "\u001b[0;31m---------------------------------------------------------------------------\u001b[0m",
      "\u001b[0;31mKeyError\u001b[0m                                  Traceback (most recent call last)",
      "\u001b[0;32m<ipython-input-12-bf395a516e2d>\u001b[0m in \u001b[0;36m<module>\u001b[0;34m\u001b[0m\n\u001b[1;32m      1\u001b[0m \u001b[0mex_2\u001b[0m\u001b[0;34m.\u001b[0m\u001b[0mget\u001b[0m\u001b[0;34m(\u001b[0m\u001b[0;34m'points'\u001b[0m\u001b[0;34m,\u001b[0m\u001b[0;34m'points are not declared in the above dictionary,try with some other value'\u001b[0m\u001b[0;34m)\u001b[0m\u001b[0;34m\u001b[0m\u001b[0;34m\u001b[0m\u001b[0m\n\u001b[0;32m----> 2\u001b[0;31m \u001b[0mprint\u001b[0m \u001b[0;34m(\u001b[0m\u001b[0mex_2\u001b[0m\u001b[0;34m[\u001b[0m\u001b[0;34m'points'\u001b[0m\u001b[0;34m]\u001b[0m\u001b[0;34m)\u001b[0m\u001b[0;34m\u001b[0m\u001b[0;34m\u001b[0m\u001b[0m\n\u001b[0m",
      "\u001b[0;31mKeyError\u001b[0m: 'points'"
     ]
    }
   ],
   "source": [
    "ex_2.get('points','points are not declared in the above dictionary,try with some other value')\n",
    "print (ex_2['points'])"
   ]
  }
 ],
 "metadata": {
  "kernelspec": {
   "display_name": "Python 3",
   "language": "python",
   "name": "python3"
  },
  "language_info": {
   "codemirror_mode": {
    "name": "ipython",
    "version": 3
   },
   "file_extension": ".py",
   "mimetype": "text/x-python",
   "name": "python",
   "nbconvert_exporter": "python",
   "pygments_lexer": "ipython3",
   "version": "3.7.3"
  }
 },
 "nbformat": 4,
 "nbformat_minor": 2
}
