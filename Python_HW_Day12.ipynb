{
 "cells": [
  {
   "cell_type": "code",
   "execution_count": 1,
   "metadata": {},
   "outputs": [
    {
     "name": "stdout",
     "output_type": "stream",
     "text": [
      "\n",
      "key:username\n",
      "\n",
      "value:AMK\n",
      "\n",
      "key:firstname\n",
      "\n",
      "value:Manoj Kumar\n",
      "\n",
      "key:lastname\n",
      "\n",
      "value:Andhavarapu\n"
     ]
    }
   ],
   "source": [
    "# Looping through the dictonaries \n",
    "\n",
    "user_0 = {'username': 'AMK','firstname': 'Manoj Kumar','lastname': 'Andhavarapu',}\n",
    "\n",
    "for key,value in user_0.items():\n",
    "    print(f\"\\nkey:{key}\")\n",
    "    print(f\"\\nvalue:{value}\")"
   ]
  },
  {
   "cell_type": "code",
   "execution_count": 3,
   "metadata": {},
   "outputs": [
    {
     "name": "stdout",
     "output_type": "stream",
     "text": [
      "\n",
      "key:username\n",
      "\n",
      "key:firstname\n",
      "\n",
      "key:lastname\n"
     ]
    }
   ],
   "source": [
    "for key in user_0.keys():\n",
    "    print(f\"\\nkey:{key}\")"
   ]
  },
  {
   "cell_type": "code",
   "execution_count": 4,
   "metadata": {},
   "outputs": [
    {
     "name": "stdout",
     "output_type": "stream",
     "text": [
      "\n",
      "value:AMK\n",
      "\n",
      "value:Manoj Kumar\n",
      "\n",
      "value:Andhavarapu\n"
     ]
    }
   ],
   "source": [
    "for value in user_0.values():\n",
    "    print(f\"\\nvalue:{value}\")"
   ]
  }
 ],
 "metadata": {
  "kernelspec": {
   "display_name": "Python 3",
   "language": "python",
   "name": "python3"
  },
  "language_info": {
   "codemirror_mode": {
    "name": "ipython",
    "version": 3
   },
   "file_extension": ".py",
   "mimetype": "text/x-python",
   "name": "python",
   "nbconvert_exporter": "python",
   "pygments_lexer": "ipython3",
   "version": "3.7.3"
  }
 },
 "nbformat": 4,
 "nbformat_minor": 2
}
