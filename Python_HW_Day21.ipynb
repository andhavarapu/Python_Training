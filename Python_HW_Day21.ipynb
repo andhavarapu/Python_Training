{
 "cells": [
  {
   "cell_type": "code",
   "execution_count": 13,
   "metadata": {},
   "outputs": [
    {
     "data": {
      "text/plain": [
       "'I am building the console'"
      ]
     },
     "execution_count": 13,
     "metadata": {},
     "output_type": "execute_result"
    }
   ],
   "source": [
    "# Day#21 --> 07-14-2019 [Sunday]\n",
    "\n",
    "# Superclass and SubClass...!!!\n",
    "\n",
    "class parentclass:\n",
    "    var1=\"I am building the console\"\n",
    "    var2=\"I am taking care of front-end part\"\n",
    "    \n",
    "parentobj=parentclass()\n",
    "parentobj.var2\n",
    "parentobj.var1"
   ]
  },
  {
   "cell_type": "code",
   "execution_count": 12,
   "metadata": {},
   "outputs": [
    {
     "data": {
      "text/plain": [
       "'I am taking care of front-end part'"
      ]
     },
     "execution_count": 12,
     "metadata": {},
     "output_type": "execute_result"
    }
   ],
   "source": [
    "class parentclass:\n",
    "    var1=\"I am building the console\"\n",
    "    var2=\"I am taking care of front-end part\"\n",
    "    \n",
    "parentobj=parentclass()\n",
    "parentobj.var2\n",
    "#print(\"I am in Parentclass\")\n",
    "\n",
    "class childclass(parentclass):\n",
    "    pass\n",
    "\n",
    "childobj=childclass()\n",
    "childobj.var1\n",
    "childobj.var2\n",
    "\n",
    "#parentobj.var2"
   ]
  },
  {
   "cell_type": "code",
   "execution_count": 14,
   "metadata": {},
   "outputs": [
    {
     "data": {
      "text/plain": [
       "'I am taking care of brakes part and type'"
      ]
     },
     "execution_count": 14,
     "metadata": {},
     "output_type": "execute_result"
    }
   ],
   "source": [
    "class parentclass:\n",
    "    var1=\"I am building the console\"\n",
    "    var2=\"I am taking care of front-end part\"\n",
    "    \n",
    "parentobj=parentclass()\n",
    "parentobj.var2\n",
    "#print(\"I am in Parentclass\")\n",
    "\n",
    "class childclass(parentclass):\n",
    "    var2 = \"I am taking care of brakes part and type\"\n",
    "\n",
    "childobj=childclass()\n",
    "childobj.var2\n",
    "\n",
    "\n",
    "#parentobj.var2"
   ]
  },
  {
   "cell_type": "code",
   "execution_count": 17,
   "metadata": {},
   "outputs": [
    {
     "name": "stdout",
     "output_type": "stream",
     "text": [
      "Hello, Manoj\n"
     ]
    }
   ],
   "source": [
    "#...... Constructor .....\n",
    "\n",
    "class className:\n",
    "        def createname(self,name):\n",
    "            self.name = name\n",
    "        def displayname(self):\n",
    "            return self.name\n",
    "        def saying(self):\n",
    "            print(f\"Hello, {self.name}\")\n",
    "first = className()\n",
    "first.createname('Manoj')\n",
    "first.displayname()\n",
    "first.saying()"
   ]
  },
  {
   "cell_type": "code",
   "execution_count": 23,
   "metadata": {},
   "outputs": [
    {
     "name": "stdout",
     "output_type": "stream",
     "text": [
      "I am explaining something\n",
      "You are doing good\n"
     ]
    }
   ],
   "source": [
    "class new:\n",
    "    def __init__(self):\n",
    "        print(\"I am explaining something\")\n",
    "        print(\"You are doing good\")\n",
    "        \n",
    "#new()\n",
    "newobj=new()"
   ]
  }
 ],
 "metadata": {
  "kernelspec": {
   "display_name": "Python 3",
   "language": "python",
   "name": "python3"
  },
  "language_info": {
   "codemirror_mode": {
    "name": "ipython",
    "version": 3
   },
   "file_extension": ".py",
   "mimetype": "text/x-python",
   "name": "python",
   "nbconvert_exporter": "python",
   "pygments_lexer": "ipython3",
   "version": "3.7.3"
  }
 },
 "nbformat": 4,
 "nbformat_minor": 2
}
