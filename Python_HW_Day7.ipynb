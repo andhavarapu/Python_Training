{
 "cells": [
  {
   "cell_type": "code",
   "execution_count": 3,
   "metadata": {},
   "outputs": [
    {
     "name": "stdout",
     "output_type": "stream",
     "text": [
      "['Eart', 'Sun', 'Moon']\n",
      "['Moon', 'Mars', 'Venus']\n",
      "['Eart', 'Sun']\n"
     ]
    }
   ],
   "source": [
    "#slicing of list:\n",
    "planets = ['Eart','Sun','Moon','Mars','Venus']\n",
    "\n",
    "#print first 3 planets.\n",
    "print(planets[0:3])\n",
    "\n",
    "#print planets from 3rd value (Or) print from Moon.\n",
    "print(planets[2:])\n",
    "\n",
    "print (planets[:2])"
   ]
  },
  {
   "cell_type": "code",
   "execution_count": 5,
   "metadata": {},
   "outputs": [
    {
     "name": "stdout",
     "output_type": "stream",
     "text": [
      "['Eart', 'Sun', 'Moon', 'Mars', 'Venus']\n"
     ]
    }
   ],
   "source": [
    "print (planets)"
   ]
  },
  {
   "cell_type": "code",
   "execution_count": 6,
   "metadata": {},
   "outputs": [
    {
     "name": "stdout",
     "output_type": "stream",
     "text": [
      "Planets on the universe:\n",
      "Eart\n",
      "Sun\n",
      "Moon\n",
      "Mars\n",
      "Venus\n"
     ]
    }
   ],
   "source": [
    "print ('Planets on the universe:')\n",
    "for planet in planets[:]:\n",
    "    print (planet.title())"
   ]
  },
  {
   "cell_type": "code",
   "execution_count": 7,
   "metadata": {},
   "outputs": [
    {
     "name": "stdout",
     "output_type": "stream",
     "text": [
      "['Reading', 'singing', 'watching']\n"
     ]
    }
   ],
   "source": [
    "#copying a list\n",
    "my_hobbies = ['Reading','singing','watching']\n",
    "wife_hobbies = my_hobbies[:]\n",
    "\n",
    "print (wife_hobbies)"
   ]
  },
  {
   "cell_type": "code",
   "execution_count": 8,
   "metadata": {},
   "outputs": [
    {
     "name": "stdout",
     "output_type": "stream",
     "text": [
      "['Reading', 'singing', 'watching', 'Driving']\n",
      "['Reading', 'singing', 'watching', 'Movies']\n"
     ]
    }
   ],
   "source": [
    "my_hobbies.append('Driving')\n",
    "wife_hobbies.append('Movies')\n",
    "\n",
    "print(my_hobbies)\n",
    "print(wife_hobbies)"
   ]
  }
 ],
 "metadata": {
  "kernelspec": {
   "display_name": "Python 3",
   "language": "python",
   "name": "python3"
  },
  "language_info": {
   "codemirror_mode": {
    "name": "ipython",
    "version": 3
   },
   "file_extension": ".py",
   "mimetype": "text/x-python",
   "name": "python",
   "nbconvert_exporter": "python",
   "pygments_lexer": "ipython3",
   "version": "3.7.3"
  }
 },
 "nbformat": 4,
 "nbformat_minor": 2
}
