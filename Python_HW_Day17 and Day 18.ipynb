{
 "cells": [
  {
   "cell_type": "code",
   "execution_count": 2,
   "metadata": {},
   "outputs": [],
   "source": [
    "# There was NO technical class on Day#17(i.e. 07/07/2019 Sunday).\n",
    "# Faiyaz was talking about how python important"
   ]
  },
  {
   "cell_type": "code",
   "execution_count": 1,
   "metadata": {},
   "outputs": [
    {
     "name": "stdout",
     "output_type": "stream",
     "text": [
      "\n",
      " I have a dog.\n",
      "mydog's name is jimmy\n"
     ]
    }
   ],
   "source": [
    "# Day 18 (07/08/2019 Monday)\n",
    "# Introduction to default values ... in functions.\n",
    "\n",
    "def describe_pet(pet_name, animal_type = 'dog'):\n",
    "    \"\"\"Display Info about a pet\"\"\"\n",
    "    print(f\"\\n I have a {animal_type}.\")\n",
    "    print(f\"my {animal_type}'s name is {pet_name}\")\n",
    "    \n",
    "describe_pet('jimmy')"
   ]
  },
  {
   "cell_type": "code",
   "execution_count": 3,
   "metadata": {},
   "outputs": [
    {
     "name": "stdout",
     "output_type": "stream",
     "text": [
      "\n",
      " I have a cat.\n",
      "mycat's name is jimmy\n"
     ]
    }
   ],
   "source": [
    "def describe_pet1(pet_name, animal_type='dog'):\n",
    "    \"\"\"Display info about a pet\"\"\"\n",
    "    print(f\"\\n I have a {animal_type}.\")\n",
    "    print(f\"my {animal_type}'s name is {pet_name}\")\n",
    "    \n",
    "describe_pet1('jimmy','cat')"
   ]
  },
  {
   "cell_type": "code",
   "execution_count": 4,
   "metadata": {},
   "outputs": [
    {
     "ename": "TypeError",
     "evalue": "describe_pet2() missing 1 required positional argument: 'animal_type'",
     "output_type": "error",
     "traceback": [
      "\u001b[0;31m---------------------------------------------------------------------------\u001b[0m",
      "\u001b[0;31mTypeError\u001b[0m                                 Traceback (most recent call last)",
      "\u001b[0;32m<ipython-input-4-37a5f19fb25d>\u001b[0m in \u001b[0;36m<module>\u001b[0;34m\u001b[0m\n\u001b[1;32m      6\u001b[0m     \u001b[0mprint\u001b[0m\u001b[0;34m(\u001b[0m\u001b[0;34mf\"my {animal_type}'s name is {pet_name}\"\u001b[0m\u001b[0;34m)\u001b[0m\u001b[0;34m\u001b[0m\u001b[0;34m\u001b[0m\u001b[0m\n\u001b[1;32m      7\u001b[0m \u001b[0;34m\u001b[0m\u001b[0m\n\u001b[0;32m----> 8\u001b[0;31m \u001b[0mdescribe_pet2\u001b[0m\u001b[0;34m(\u001b[0m\u001b[0;34m'jimmy'\u001b[0m\u001b[0;34m)\u001b[0m\u001b[0;34m\u001b[0m\u001b[0;34m\u001b[0m\u001b[0m\n\u001b[0m",
      "\u001b[0;31mTypeError\u001b[0m: describe_pet2() missing 1 required positional argument: 'animal_type'"
     ]
    }
   ],
   "source": [
    "# Avoiding arguments errors:\n",
    "\n",
    "def describe_pet2(pet_name,animal_type):\n",
    "    \"\"\"Display info about a pet\"\"\"\n",
    "    print(f\"\\n I have a {animal_type}.\")\n",
    "    print(f\"my {animal_type}'s name is {pet_name}\")\n",
    "    \n",
    "describe_pet2('jimmy')"
   ]
  },
  {
   "cell_type": "code",
   "execution_count": 5,
   "metadata": {},
   "outputs": [
    {
     "name": "stdout",
     "output_type": "stream",
     "text": [
      "{'first': 'AR', 'last': 'Rahman'}\n"
     ]
    }
   ],
   "source": [
    "# To return the output in a dict format ...!!\n",
    "\n",
    "def build_person(first_name, last_name):\n",
    "    \"\"\"Returns a dictionary of info about a person\"\"\"\n",
    "    person = {'first': first_name, 'last': last_name}\n",
    "    return person\n",
    "\n",
    "musician = build_person('AR','Rahman')\n",
    "print(musician)"
   ]
  },
  {
   "cell_type": "code",
   "execution_count": 7,
   "metadata": {},
   "outputs": [
    {
     "name": "stdout",
     "output_type": "stream",
     "text": [
      "Hello, Apple!\n",
      "Hello, Mango!\n",
      "Hello, Orange!\n",
      "Hello, Pineapple!\n"
     ]
    }
   ],
   "source": [
    "# Passing a for loop in the function...!!\n",
    "\n",
    "def greet_users(fruits):\n",
    "    \"\"\"print simple greeting to each user in the list\"\"\"\n",
    "    for fruit in fruits:\n",
    "        msg = f\"Hello, {fruit.title()}!\"\n",
    "        print(msg)\n",
    "        \n",
    "fruits = ['Apple','Mango','Orange','PineApple']\n",
    "greet_users(fruits)"
   ]
  },
  {
   "cell_type": "code",
   "execution_count": 8,
   "metadata": {},
   "outputs": [
    {
     "name": "stdout",
     "output_type": "stream",
     "text": [
      "('mushrrom', 'tomatoes', 'Olive')\n"
     ]
    }
   ],
   "source": [
    "# Passing an arbitary no of arguments..!!\n",
    "\n",
    "def make_pizza(*toppings):\n",
    "    \"\"\"Print the list of toppings that have been requested\"\"\"\n",
    "    print(toppings)\n",
    "    \n",
    "make_pizza('mushrrom','tomatoes','Olive')"
   ]
  }
 ],
 "metadata": {
  "kernelspec": {
   "display_name": "Python 3",
   "language": "python",
   "name": "python3"
  },
  "language_info": {
   "codemirror_mode": {
    "name": "ipython",
    "version": 3
   },
   "file_extension": ".py",
   "mimetype": "text/x-python",
   "name": "python",
   "nbconvert_exporter": "python",
   "pygments_lexer": "ipython3",
   "version": "3.7.3"
  }
 },
 "nbformat": 4,
 "nbformat_minor": 2
}
