{
 "cells": [
  {
   "cell_type": "code",
   "execution_count": null,
   "metadata": {},
   "outputs": [],
   "source": [
    "# Python_HW_Day27 [07-23-2019] --> NO Technical, kind of mock interview session.  <---\n",
    "\n",
    "# 1. What is a dict datatype in python explain in detail?\n",
    "\n",
    "# 2. How do you read a file in python? Write the syntax?\n",
    "\n",
    "# 3. What is difference between for loop and while loop?\n",
    "\n",
    "# 4. What is the use of constructor in python?\n",
    "\n",
    "# 5. What is the use of \"f-string\" in python?\n",
    "\n",
    "# 6. What is the use of placeholder in \"f-string\"?\n",
    "\n",
    "# 7. How to declare/Initialize a class and pass the parameters?\n",
    "\n",
    "# 8. What is the use of slef in a class?\n",
    "\n",
    "# 9. Print statment inside the for loop and print statement outside the for loop? How is the output printed?\n",
    "\n",
    "#10. How to write a file in python? Write the syntax? What all the different syntax options?\n",
    "\n",
    "#11. What is the use of Title case? When do you want to use?\n",
    "\n",
    "#12. What is the use of strip() function in python?\n",
    "\n",
    "#13. What is the use of dict datatype?\n",
    "\n",
    "#14. What is the difference between .append() and .pop() in list?"
   ]
  }
 ],
 "metadata": {
  "kernelspec": {
   "display_name": "Python 3",
   "language": "python",
   "name": "python3"
  },
  "language_info": {
   "codemirror_mode": {
    "name": "ipython",
    "version": 3
   },
   "file_extension": ".py",
   "mimetype": "text/x-python",
   "name": "python",
   "nbconvert_exporter": "python",
   "pygments_lexer": "ipython3",
   "version": "3.7.3"
  }
 },
 "nbformat": 4,
 "nbformat_minor": 2
}
