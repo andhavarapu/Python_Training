{
 "cells": [
  {
   "cell_type": "code",
   "execution_count": 5,
   "metadata": {},
   "outputs": [
    {
     "name": "stdout",
     "output_type": "stream",
     "text": [
      "apple\n",
      "Apple\n"
     ]
    }
   ],
   "source": [
    "# List is a collection of items in a particular order and it is a mutable data type. Where as string is in immutable \n",
    "# data type, List can be declared by using []\n",
    "\n",
    "fruits = ['apple','mango','orange']\n",
    "print (fruits [0])\n",
    "print (fruits [0].title())"
   ]
  },
  {
   "cell_type": "code",
   "execution_count": 6,
   "metadata": {},
   "outputs": [
    {
     "name": "stdout",
     "output_type": "stream",
     "text": [
      "['apple', 'mango', 'banana']\n"
     ]
    }
   ],
   "source": [
    "# Remove 'orange' to 'banana'\n",
    "# (or) assign a new value\n",
    "\n",
    "fruits[2]='banana'\n",
    "print (fruits)"
   ]
  },
  {
   "cell_type": "code",
   "execution_count": 7,
   "metadata": {},
   "outputs": [
    {
     "name": "stdout",
     "output_type": "stream",
     "text": [
      "['Apple', 'mango', 'Goa']\n"
     ]
    }
   ],
   "source": [
    "# Insert a new value\n",
    "\n",
    "fruits [2] = 'Goa'\n",
    "fruits [0] = 'Apple'\n",
    "\n",
    "print (fruits)"
   ]
  },
  {
   "cell_type": "code",
   "execution_count": 8,
   "metadata": {},
   "outputs": [
    {
     "name": "stdout",
     "output_type": "stream",
     "text": [
      "['Apple', 'mango', 'Goa', 'Banana']\n"
     ]
    }
   ],
   "source": [
    "#Appending a value\n",
    "fruits.append('Banana')\n",
    "print (fruits)"
   ]
  },
  {
   "cell_type": "code",
   "execution_count": 9,
   "metadata": {},
   "outputs": [
    {
     "name": "stdout",
     "output_type": "stream",
     "text": [
      "['Apple', 'Papaya', 'mango', 'Goa', 'Banana']\n"
     ]
    }
   ],
   "source": [
    "#Need to include an element in the desired index\n",
    "fruits.insert(1,'Papaya')\n",
    "print (fruits)"
   ]
  },
  {
   "cell_type": "code",
   "execution_count": 12,
   "metadata": {},
   "outputs": [
    {
     "name": "stdout",
     "output_type": "stream",
     "text": [
      "[]\n"
     ]
    }
   ],
   "source": [
    "#Delete a value from the list using pop() function\n",
    "fruits.pop()\n",
    "fruits.pop(0)\n",
    "print(fruits)"
   ]
  },
  {
   "cell_type": "code",
   "execution_count": 13,
   "metadata": {},
   "outputs": [
    {
     "name": "stdout",
     "output_type": "stream",
     "text": [
      "['Apple', 'Papaya', 'mango', 'Goa', 'Banana']\n"
     ]
    }
   ],
   "source": [
    "fruits = ['Apple', 'Papaya', 'mango', 'Goa', 'Banana']\n",
    "print (fruits)"
   ]
  },
  {
   "cell_type": "code",
   "execution_count": 14,
   "metadata": {},
   "outputs": [
    {
     "name": "stdout",
     "output_type": "stream",
     "text": [
      "['Apple', 'Banana', 'Goa', 'Papaya', 'mango']\n"
     ]
    }
   ],
   "source": [
    "#sorting a list using sort() function.\n",
    "fruits.sort()\n",
    "print (fruits)"
   ]
  }
 ],
 "metadata": {
  "kernelspec": {
   "display_name": "Python 3",
   "language": "python",
   "name": "python3"
  },
  "language_info": {
   "codemirror_mode": {
    "name": "ipython",
    "version": 3
   },
   "file_extension": ".py",
   "mimetype": "text/x-python",
   "name": "python",
   "nbconvert_exporter": "python",
   "pygments_lexer": "ipython3",
   "version": "3.7.3"
  }
 },
 "nbformat": 4,
 "nbformat_minor": 2
}
