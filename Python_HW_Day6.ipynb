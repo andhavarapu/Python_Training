{
 "cells": [
  {
   "cell_type": "code",
   "execution_count": 5,
   "metadata": {},
   "outputs": [
    {
     "name": "stdout",
     "output_type": "stream",
     "text": [
      "['Bear', 'Cat', 'Dog']\n",
      "Cat\n",
      "Dog\n",
      "Bear\n"
     ]
    }
   ],
   "source": [
    "# Negative Indexing\n",
    "animals = ['Bear','Cat','Dog']\n",
    "print (animals)\n",
    "print (animals[1])\n",
    "# Negative Indexing Used to display last item of the list.\n",
    "print (animals[-1])\n",
    "print (animals[0])"
   ]
  },
  {
   "cell_type": "code",
   "execution_count": 6,
   "metadata": {},
   "outputs": [
    {
     "name": "stdout",
     "output_type": "stream",
     "text": [
      "Laptop\n",
      "Mouse\n",
      "Keybord\n",
      "Monitor\n"
     ]
    }
   ],
   "source": [
    "# Introducation to \"FOR\" loop in the lists.\n",
    "devices = ['Laptop','Mouse','Keybord','Monitor']\n",
    "for device in devices:\n",
    "    print (device)"
   ]
  },
  {
   "cell_type": "code",
   "execution_count": 10,
   "metadata": {},
   "outputs": [
    {
     "name": "stdout",
     "output_type": "stream",
     "text": [
      "['Laptop', 'Mouse', 'Keybord', 'Monitor', 'cpu']\n",
      "['Laptop', 'Mouse', 'Keybord', 'Monitor', 'cpu', 'cpu']\n"
     ]
    }
   ],
   "source": [
    "print (devices)\n",
    "devices.append('cpu')\n",
    "print (devices)"
   ]
  },
  {
   "cell_type": "code",
   "execution_count": 18,
   "metadata": {},
   "outputs": [
    {
     "name": "stdout",
     "output_type": "stream",
     "text": [
      "['Laptop', 'Mouse', 'Keybord', 'Monitor']\n"
     ]
    }
   ],
   "source": [
    "devices.remove('cpu')\n",
    "print (devices)"
   ]
  },
  {
   "cell_type": "code",
   "execution_count": 26,
   "metadata": {
    "scrolled": true
   },
   "outputs": [
    {
     "name": "stdout",
     "output_type": "stream",
     "text": [
      "Laptop,you are using this device daily\n",
      "Mouse,you are using this device daily\n",
      "Keybord,you are using this device daily\n",
      "Monitor,you are using this device daily\n",
      "\n",
      "These devices are used in IT life frequently\n"
     ]
    }
   ],
   "source": [
    "for device in devices:\n",
    "    print(f\"{device.title()},you are using this device daily\")\n",
    "print(\"\\nThese devices are used in IT life frequently\")"
   ]
  },
  {
   "cell_type": "code",
   "execution_count": 28,
   "metadata": {},
   "outputs": [
    {
     "name": "stdout",
     "output_type": "stream",
     "text": [
      "[1, 2, 3, 4, 5]\n"
     ]
    }
   ],
   "source": [
    "#Working with a numerical list\n",
    "\n",
    "numbers = list(range(1,6))\n",
    "print (numbers)"
   ]
  },
  {
   "cell_type": "code",
   "execution_count": 29,
   "metadata": {},
   "outputs": [
    {
     "name": "stdout",
     "output_type": "stream",
     "text": [
      "values:\n",
      "1\n",
      "2\n",
      "3\n",
      "4\n",
      "5\n",
      "6\n",
      "7\n",
      "8\n",
      "9\n",
      "10\n"
     ]
    }
   ],
   "source": [
    "print (\"values:\")\n",
    "for value in range(1,11):\n",
    "    print (value)"
   ]
  },
  {
   "cell_type": "code",
   "execution_count": 36,
   "metadata": {},
   "outputs": [
    {
     "name": "stdout",
     "output_type": "stream",
     "text": [
      "[1, 4, 9, 16, 25, 36, 49, 64, 81, 100, 121, 144, 169, 196, 225]\n"
     ]
    }
   ],
   "source": [
    "squares = []\n",
    "for value in range(1,16):\n",
    "    square = value ** 2\n",
    "    squares.append(square)\n",
    "    \n",
    "print(squares)"
   ]
  }
 ],
 "metadata": {
  "kernelspec": {
   "display_name": "Python 3",
   "language": "python",
   "name": "python3"
  },
  "language_info": {
   "codemirror_mode": {
    "name": "ipython",
    "version": 3
   },
   "file_extension": ".py",
   "mimetype": "text/x-python",
   "name": "python",
   "nbconvert_exporter": "python",
   "pygments_lexer": "ipython3",
   "version": "3.7.3"
  }
 },
 "nbformat": 4,
 "nbformat_minor": 2
}
