{
 "cells": [
  {
   "cell_type": "code",
   "execution_count": 5,
   "metadata": {},
   "outputs": [
    {
     "name": "stdout",
     "output_type": "stream",
     "text": [
      "my dog's name is Willie.\n",
      "my dog's age is 6.\n",
      "Willie rolled over\n",
      "Willie rolled over\n",
      "Willie rolled over\n",
      "Willie rolled over\n",
      "\n",
      "Willie is now sitting\n",
      "\n",
      "Willie is sleeping because it got tired\n"
     ]
    }
   ],
   "source": [
    "# Day-19 [i.e. 09Jul2019 Tuesday]\n",
    "\n",
    "# Introduction to python classes concept\n",
    "# Use the advantage of OOPS concepts .....!!\n",
    "# A class is nothing but a set of instructions passed to method to be performed.\n",
    "# 1.Class..... 2.Object(Also called as instance)....3.Method(means functions)\n",
    "# Invoking..... something for performing an operation\n",
    "# Class name need to be define.\n",
    "\n",
    "# Creating the class\n",
    "\n",
    "class dog:\n",
    "    \"\"\"A simple attempt to model a dog\"\"\"\n",
    "    def __init__ (self,name,age):\n",
    "        \"\"\"Initialize name and age attributes\"\"\"\n",
    "        self.name = name\n",
    "        self.age = age\n",
    "#self.name and self.age are parameters\n",
    "# name and age are variables\n",
    "\n",
    "    def sit(self):\n",
    "        \"\"\"Simulating a sitting response for the dog\"\"\"\n",
    "        print(f\"\\n{self.name} is now sitting\")\n",
    "    \n",
    "    def roll_over(self):\n",
    "        \"\"\"Simulating the rollover command response to the dog\"\"\"  \n",
    "        print(f\"{self.name} rolled over\")\n",
    "    def sleep(self):\n",
    "        \"\"\"Simulating a sleep response for the dog\"\"\"\n",
    "        print(f\"\\n{self.name} is sleeping because it got tired\")\n",
    "              \n",
    "my_dog = dog('Willie',6)\n",
    "\n",
    "print (f\"my dog's name is {my_dog.name}.\")\n",
    "print (f\"my dog's age is {my_dog.age}.\")\n",
    "\n",
    "my_dog.roll_over()\n",
    "my_dog.roll_over()\n",
    "my_dog.roll_over()\n",
    "my_dog.roll_over()\n",
    "my_dog.sit()\n",
    "my_dog.sleep()"
   ]
  }
 ],
 "metadata": {
  "kernelspec": {
   "display_name": "Python 3",
   "language": "python",
   "name": "python3"
  },
  "language_info": {
   "codemirror_mode": {
    "name": "ipython",
    "version": 3
   },
   "file_extension": ".py",
   "mimetype": "text/x-python",
   "name": "python",
   "nbconvert_exporter": "python",
   "pygments_lexer": "ipython3",
   "version": "3.7.3"
  }
 },
 "nbformat": 4,
 "nbformat_minor": 2
}
